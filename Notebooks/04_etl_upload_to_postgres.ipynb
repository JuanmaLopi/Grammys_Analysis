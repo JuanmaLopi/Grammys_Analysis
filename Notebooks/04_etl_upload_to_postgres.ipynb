{
 "cells": [
  {
   "cell_type": "code",
   "execution_count": 2,
   "metadata": {},
   "outputs": [],
   "source": [
    "import pandas as pd\n",
    "from sqlalchemy import create_engine\n"
   ]
  },
  {
   "cell_type": "code",
   "execution_count": 3,
   "metadata": {},
   "outputs": [],
   "source": [
    "import sys\n",
    "import os\n",
    "sys.path.append(os.path.abspath(os.path.join('..', 'credentials')))\n",
    "from Credentials import usuario,Password,Host,puerto,db"
   ]
  },
  {
   "cell_type": "code",
   "execution_count": 8,
   "metadata": {},
   "outputs": [
    {
     "name": "stdout",
     "output_type": "stream",
     "text": [
      "Datos subidos a la tabla Data_Merged correctamente\n"
     ]
    }
   ],
   "source": [
    "## Step 1: Read the CSV\n",
    "csv_file = '../data/Grammy_And_Spotify_Merged.csv'  # Replace with the path to your CSV file\n",
    "df = pd.read_csv(csv_file)\n",
    "\n",
    "# Step 2: Configure the connection to PostgreSQL\n",
    "user = usuario  # Replace with your PostgreSQL username\n",
    "password = Password  # Replace with your password\n",
    "host = Host  # Replace if your database is on another server\n",
    "port = puerto  # Default port for PostgreSQL\n",
    "db = db  # Replace with the name of your database\n",
    "\n",
    "# Create the connection string\n",
    "engine = create_engine(f'postgresql://{user}:{password}@{host}:{port}/{db}')\n",
    "\n",
    "# Step 3: Upload the data from the CSV to a PostgreSQL table\n",
    "# You can specify the table name and whether to replace or append the data\n",
    "table_name = \"Data_Merged\"  # Replace with the name of your table\n",
    "df.to_sql(table_name, engine, if_exists='replace', index=False)\n",
    "\n",
    "print(f'Data uploaded to the table {table_name} successfully')\n"
   ]
  }
 ],
 "metadata": {
  "kernelspec": {
   "display_name": "Python 3",
   "language": "python",
   "name": "python3"
  },
  "language_info": {
   "codemirror_mode": {
    "name": "ipython",
    "version": 3
   },
   "file_extension": ".py",
   "mimetype": "text/x-python",
   "name": "python",
   "nbconvert_exporter": "python",
   "pygments_lexer": "ipython3",
   "version": "3.10.12"
  }
 },
 "nbformat": 4,
 "nbformat_minor": 2
}
