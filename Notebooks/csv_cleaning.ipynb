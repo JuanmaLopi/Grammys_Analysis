{
 "cells": [
  {
   "cell_type": "code",
   "execution_count": 7,
   "metadata": {},
   "outputs": [
    {
     "name": "stdout",
     "output_type": "stream",
     "text": [
      "Null Data: \n",
      " Unnamed: 0          0\n",
      "track_id            0\n",
      "artists             0\n",
      "album_name          0\n",
      "track_name          0\n",
      "popularity          0\n",
      "duration_ms         0\n",
      "explicit            0\n",
      "danceability        0\n",
      "energy              0\n",
      "key                 0\n",
      "loudness            0\n",
      "mode                0\n",
      "speechiness         0\n",
      "acousticness        0\n",
      "instrumentalness    0\n",
      "liveness            0\n",
      "valence             0\n",
      "tempo               0\n",
      "time_signature      0\n",
      "track_genre         0\n",
      "dtype: int64\n",
      "There are  0  duplicated data\n"
     ]
    }
   ],
   "source": [
    "import pandas as pd\n",
    "\n",
    "spotify = pd.read_csv('c:/Users/juanm/Downloads/spotify_dataset.csv', header = 0)\n",
    "\n",
    "# Borrar la fila 65900\n",
    "spotify.drop(spotify[spotify.isnull().any(axis=1)].index,inplace=True)\n",
    "\n",
    "nulls = spotify.isnull().sum()\n",
    "duplicated = spotify.duplicated().sum()\n",
    "\n",
    "# Saber cual es el valor nulo\n",
    "print(\"Null Data: \\n\",nulls)\n",
    "print(\"There are \",duplicated, \" duplicated data\")\n",
    "\n",
    "spotify.to_csv('../data/spotify_updated.csv', index=False)\n"
   ]
  }
 ],
 "metadata": {
  "kernelspec": {
   "display_name": "Python 3",
   "language": "python",
   "name": "python3"
  },
  "language_info": {
   "codemirror_mode": {
    "name": "ipython",
    "version": 3
   },
   "file_extension": ".py",
   "mimetype": "text/x-python",
   "name": "python",
   "nbconvert_exporter": "python",
   "pygments_lexer": "ipython3",
   "version": "3.11.5"
  }
 },
 "nbformat": 4,
 "nbformat_minor": 2
}
