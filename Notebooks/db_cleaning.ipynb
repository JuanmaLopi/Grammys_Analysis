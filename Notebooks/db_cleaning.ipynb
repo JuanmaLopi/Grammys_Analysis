{
 "cells": [
  {
   "cell_type": "code",
   "execution_count": 23,
   "metadata": {},
   "outputs": [],
   "source": [
    "import pandas as pd\n",
    "import matplotlib.pyplot as plt"
   ]
  },
  {
   "cell_type": "code",
   "execution_count": 27,
   "metadata": {},
   "outputs": [],
   "source": [
    "import sys\n",
    "import os\n",
    "sys.path.append(os.path.abspath(os.path.join('..', 'src')))\n",
    "from db_conexion import establecer_conexion\n"
   ]
  },
  {
   "cell_type": "code",
   "execution_count": 3,
   "metadata": {},
   "outputs": [
    {
     "name": "stdout",
     "output_type": "stream",
     "text": [
      "Conexion exitosa a la base de datos\n"
     ]
    },
    {
     "name": "stderr",
     "output_type": "stream",
     "text": [
      "C:\\Users\\juanm\\AppData\\Local\\Temp\\ipykernel_20964\\2051416096.py:7: UserWarning: pandas only supports SQLAlchemy connectable (engine/connection) or database string URI or sqlite3 DBAPI2 connection. Other DBAPI2 objects are not tested. Please consider using SQLAlchemy.\n",
      "  grammy = pd.read_sql_query(query, conn)\n"
     ]
    }
   ],
   "source": [
    "conn, cursor = establecer_conexion()\n",
    "\n",
    "# Consulta SQL para seleccionar los datos\n",
    "query = \"SELECT * FROM grammy_awards\"\n",
    "\n",
    "# Leer los datos en un DataFrame de pandas\n",
    "grammy = pd.read_sql_query(query, conn)\n",
    "#grammy\n",
    "#print(df.isnull().sum())"
   ]
  },
  {
   "cell_type": "code",
   "execution_count": 4,
   "metadata": {},
   "outputs": [
    {
     "name": "stdout",
     "output_type": "stream",
     "text": [
      "0\n",
      "0\n",
      "id                 0\n",
      "year               0\n",
      "title              0\n",
      "published_at       0\n",
      "updated_at         0\n",
      "category           0\n",
      "nominee            0\n",
      "artist          1840\n",
      "workers            0\n",
      "img                0\n",
      "winner             0\n",
      "dtype: int64\n"
     ]
    }
   ],
   "source": [
    "# Agregar una columna id al principio del csv\n",
    "grammy['id'] = range(1, len(grammy) + 1)\n",
    "\n",
    "# Mover la columna 'id' al principio\n",
    "cols = ['id'] + [col for col in grammy.columns if col != 'id']\n",
    "grammy = grammy[cols]\n",
    "\n",
    "# Reemplazar los valores nulos de Worker, por trabajador desconocido\n",
    "grammy['workers'] = grammy['workers'].fillna(\"Unknown Worker\")\n",
    "print(grammy['workers'].isnull().sum())\n",
    "\n",
    "# Reemplazar los valor nulos de nominee, por desconocido\n",
    "grammy['nominee'] = grammy['nominee'].fillna(\"Unknown\")\n",
    "print(grammy['nominee'].isnull().sum())\n",
    "\n",
    "grammy['img'] = grammy['img'].fillna(\"https://soundimaging.com/wp-content/uploads/2020/12/coming.jpeg\")\n",
    "print(grammy.isnull().sum())"
   ]
  },
  {
   "cell_type": "code",
   "execution_count": 30,
   "metadata": {},
   "outputs": [],
   "source": [
    "from API_conexion import client_id,client_secret"
   ]
  },
  {
   "cell_type": "code",
   "execution_count": 31,
   "metadata": {},
   "outputs": [],
   "source": [
    "import pandas as pd\n",
    "import spotipy\n",
    "from spotipy.oauth2 import SpotifyClientCredentials\n",
    "\n",
    "# Credenciales de la API de Spotify (debes reemplazar estos valores por tus credenciales)\n",
    "client_id = client_id\n",
    "client_secret = client_secret\n",
    "\n",
    "# Autenticación con la API de Spotify\n",
    "auth_manager = SpotifyClientCredentials(client_id=client_id, client_secret=client_secret)\n",
    "sp = spotipy.Spotify(auth_manager=auth_manager)\n",
    "\n",
    "# Función para buscar el artista en Spotify usando el nombre de la canción\n",
    "def obtener_artista_de_cancion(nombre_cancion):\n",
    "    try:\n",
    "        # Realizar búsqueda en Spotify\n",
    "        resultados = sp.search(q=f'track:{nombre_cancion}', type='track', limit=1)\n",
    "        if resultados['tracks']['items']:\n",
    "            # Retornar el nombre del artista\n",
    "            return resultados['tracks']['items'][0]['artists'][0]['name']\n",
    "        else:\n",
    "            return None\n",
    "    except Exception as e:\n",
    "        print(f\"Error buscando la canción {nombre_cancion}: {e}\")\n",
    "        return None\n",
    "\n",
    "# Rellenar valores nulos en la columna 'artist' usando el nombre del artista extraído de Spotify\n",
    "grammy['artist'] = grammy.apply(lambda row: obtener_artista_de_cancion(row['nominee']) if pd.isnull(row['artist']) else row['artist'], axis=1)\n"
   ]
  },
  {
   "cell_type": "code",
   "execution_count": 32,
   "metadata": {},
   "outputs": [
    {
     "name": "stdout",
     "output_type": "stream",
     "text": [
      "id               0\n",
      "year             0\n",
      "title            0\n",
      "published_at     0\n",
      "updated_at       0\n",
      "category         0\n",
      "nominee          0\n",
      "artist           0\n",
      "workers          0\n",
      "img              0\n",
      "winner           0\n",
      "nominee_clean    0\n",
      "dtype: int64\n",
      "Archivo actualizado y guardado.\n"
     ]
    }
   ],
   "source": [
    "grammy['artist'] = grammy['artist'].fillna(\"Unknown Artist or Various Artists\")\n",
    "\n",
    "\n",
    "print(grammy.isnull().sum())\n",
    "\n",
    "# Guardar el archivo CSV actualizado\n",
    "grammy.to_csv('../data/grammys_updated.csv', index=False)\n",
    "\n",
    "print(\"Archivo actualizado y guardado.\")\n",
    "\n"
   ]
  }
 ],
 "metadata": {
  "kernelspec": {
   "display_name": "Python 3",
   "language": "python",
   "name": "python3"
  },
  "language_info": {
   "codemirror_mode": {
    "name": "ipython",
    "version": 3
   },
   "file_extension": ".py",
   "mimetype": "text/x-python",
   "name": "python",
   "nbconvert_exporter": "python",
   "pygments_lexer": "ipython3",
   "version": "3.11.5"
  }
 },
 "nbformat": 4,
 "nbformat_minor": 2
}
