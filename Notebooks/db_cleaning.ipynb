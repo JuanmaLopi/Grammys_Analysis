{
 "cells": [
  {
   "cell_type": "code",
   "execution_count": 2,
   "metadata": {},
   "outputs": [],
   "source": [
    "import pandas as pd\n",
    "import matplotlib.pyplot as plt"
   ]
  },
  {
   "cell_type": "code",
   "execution_count": 3,
   "metadata": {},
   "outputs": [],
   "source": [
    "import sys\n",
    "import os\n",
    "sys.path.append(os.path.abspath(os.path.join('..', 'src')))\n",
    "from db_conexion import establecer_conexion"
   ]
  },
  {
   "cell_type": "code",
   "execution_count": null,
   "metadata": {},
   "outputs": [],
   "source": [
    "conn, cursor = establecer_conexion()\n",
    "\n",
    "# Consulta SQL para seleccionar los datos\n",
    "query = \"SELECT * FROM grammy_awards\"\n",
    "\n",
    "# Leer los datos en un DataFrame de pandas\n",
    "df = pd.read_sql_query(query, conn)\n",
    "df\n",
    "#print(df.isnull().sum())"
   ]
  },
  {
   "cell_type": "code",
   "execution_count": 14,
   "metadata": {},
   "outputs": [
    {
     "name": "stdout",
     "output_type": "stream",
     "text": [
      "0\n",
      "0\n"
     ]
    }
   ],
   "source": [
    "# Reemplazar los valores nulos de Worker, por trabajador desconocido\n",
    "df['workers'] = df['workers'].fillna(\"Unknown Worker\")\n",
    "print(df['workers'].isnull().sum())\n",
    "\n",
    "# Reemplazar los valor nulos de nominee, por desconocido\n",
    "df['nominee'] = df['nominee'].fillna(\"Unknown\")\n",
    "print(df['nominee'].isnull().sum())\n"
   ]
  }
 ],
 "metadata": {
  "kernelspec": {
   "display_name": "Python 3",
   "language": "python",
   "name": "python3"
  },
  "language_info": {
   "codemirror_mode": {
    "name": "ipython",
    "version": 3
   },
   "file_extension": ".py",
   "mimetype": "text/x-python",
   "name": "python",
   "nbconvert_exporter": "python",
   "pygments_lexer": "ipython3",
   "version": "3.11.5"
  }
 },
 "nbformat": 4,
 "nbformat_minor": 2
}
