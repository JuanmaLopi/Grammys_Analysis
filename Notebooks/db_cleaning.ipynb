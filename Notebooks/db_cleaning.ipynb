{
 "cells": [
  {
   "cell_type": "code",
   "execution_count": 15,
   "metadata": {},
   "outputs": [],
   "source": [
    "import pandas as pd\n",
    "import matplotlib.pyplot as plt"
   ]
  },
  {
   "cell_type": "code",
   "execution_count": 16,
   "metadata": {},
   "outputs": [],
   "source": [
    "import sys\n",
    "import os\n",
    "sys.path.append(os.path.abspath(os.path.join('..', 'src')))\n",
    "from db_conexion import establecer_conexion\n"
   ]
  },
  {
   "cell_type": "code",
   "execution_count": 17,
   "metadata": {},
   "outputs": [
    {
     "name": "stdout",
     "output_type": "stream",
     "text": [
      "Conexion exitosa a la base de datos\n"
     ]
    },
    {
     "name": "stderr",
     "output_type": "stream",
     "text": [
      "C:\\Users\\juanm\\AppData\\Local\\Temp\\ipykernel_3068\\2051416096.py:7: UserWarning: pandas only supports SQLAlchemy connectable (engine/connection) or database string URI or sqlite3 DBAPI2 connection. Other DBAPI2 objects are not tested. Please consider using SQLAlchemy.\n",
      "  grammy = pd.read_sql_query(query, conn)\n"
     ]
    }
   ],
   "source": [
    "conn, cursor = establecer_conexion()\n",
    "\n",
    "# Consulta SQL para seleccionar los datos\n",
    "query = \"SELECT * FROM grammy_awards\"\n",
    "\n",
    "# Leer los datos en un DataFrame de pandas\n",
    "grammy = pd.read_sql_query(query, conn)\n",
    "#grammy\n",
    "#print(df.isnull().sum())"
   ]
  },
  {
   "cell_type": "code",
   "execution_count": 18,
   "metadata": {},
   "outputs": [
    {
     "name": "stdout",
     "output_type": "stream",
     "text": [
      "0\n",
      "0\n",
      "id                 0\n",
      "year               0\n",
      "title              0\n",
      "published_at       0\n",
      "updated_at         0\n",
      "category           0\n",
      "nominee            0\n",
      "artist          1840\n",
      "workers            0\n",
      "img                0\n",
      "winner             0\n",
      "dtype: int64\n"
     ]
    }
   ],
   "source": [
    "# Agregar una columna id al principio del csv\n",
    "grammy['id'] = range(1, len(grammy) + 1)\n",
    "\n",
    "# Mover la columna 'id' al principio\n",
    "cols = ['id'] + [col for col in grammy.columns if col != 'id']\n",
    "grammy = grammy[cols]\n",
    "\n",
    "# Reemplazar los valores nulos de Worker, por trabajador desconocido\n",
    "grammy['workers'] = grammy['workers'].fillna(\"Unknown Worker\")\n",
    "print(grammy['workers'].isnull().sum())\n",
    "\n",
    "# Reemplazar los valor nulos de nominee, por desconocido\n",
    "grammy['nominee'] = grammy['nominee'].fillna(\"Unknown\")\n",
    "print(grammy['nominee'].isnull().sum())\n",
    "\n",
    "grammy['img'] = grammy['img'].fillna(\"https://soundimaging.com/wp-content/uploads/2020/12/coming.jpeg\")\n",
    "print(grammy.isnull().sum())"
   ]
  },
  {
   "cell_type": "code",
   "execution_count": 19,
   "metadata": {},
   "outputs": [],
   "source": [
    "from API_conexion import client_id,client_secret"
   ]
  },
  {
   "cell_type": "code",
   "execution_count": 20,
   "metadata": {},
   "outputs": [],
   "source": [
    "import pandas as pd\n",
    "import spotipy\n",
    "from spotipy.oauth2 import SpotifyClientCredentials\n",
    "\n",
    "# Credenciales de la API de Spotify (debes reemplazar estos valores por tus credenciales)\n",
    "client_id = client_id\n",
    "client_secret = client_secret\n",
    "\n",
    "# Autenticación con Spotify\n",
    "client_credentials_manager = SpotifyClientCredentials(client_id=client_id, client_secret=client_secret)\n",
    "sp = spotipy.Spotify(client_credentials_manager=client_credentials_manager)\n",
    "\n",
    "# Definir una función para buscar artistas en Spotify\n",
    "def buscar_artista(artista):\n",
    "    try:\n",
    "        resultado = sp.search(q='artist:' + artista, type='artist')\n",
    "        if resultado['artists']['items']:\n",
    "            return resultado['artists']['items'][0]['name']\n",
    "    except Exception as e:\n",
    "        print(f\"Error buscando artista {artista}: {e}\")\n",
    "    return None\n",
    "\n",
    "# Identificar los valores nulos en la columna de artistas (asumamos que la columna se llama 'artista')\n",
    "grammy['artist'] = grammy['artist'].fillna('')\n",
    "\n",
    "# Para cada valor nulo en la columna 'artista', intentar buscar en Spotify\n",
    "grammy['artist'] = grammy['artist'].apply(lambda x: buscar_artista(x) if pd.isna(x) or x == '' else x)\n"
   ]
  },
  {
   "cell_type": "code",
   "execution_count": 21,
   "metadata": {},
   "outputs": [
    {
     "name": "stdout",
     "output_type": "stream",
     "text": [
      "id              0\n",
      "year            0\n",
      "title           0\n",
      "published_at    0\n",
      "updated_at      0\n",
      "category        0\n",
      "nominee         0\n",
      "artist          0\n",
      "workers         0\n",
      "img             0\n",
      "winner          0\n",
      "dtype: int64\n",
      "Archivo actualizado y guardado.\n"
     ]
    }
   ],
   "source": [
    "print(grammy.isnull().sum())\n",
    "\n",
    "# Guardar el archivo CSV actualizado\n",
    "grammy.to_csv('../data/grammys_updated.csv', index=False)\n",
    "\n",
    "print(\"Archivo actualizado y guardado.\")\n",
    "\n"
   ]
  }
 ],
 "metadata": {
  "kernelspec": {
   "display_name": "Python 3",
   "language": "python",
   "name": "python3"
  },
  "language_info": {
   "codemirror_mode": {
    "name": "ipython",
    "version": 3
   },
   "file_extension": ".py",
   "mimetype": "text/x-python",
   "name": "python",
   "nbconvert_exporter": "python",
   "pygments_lexer": "ipython3",
   "version": "3.11.5"
  }
 },
 "nbformat": 4,
 "nbformat_minor": 2
}
