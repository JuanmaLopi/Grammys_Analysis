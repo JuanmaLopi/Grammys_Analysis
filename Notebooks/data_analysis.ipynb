{
 "cells": [
  {
   "cell_type": "code",
   "execution_count": 3,
   "metadata": {},
   "outputs": [],
   "source": [
    "import pandas as pd"
   ]
  },
  {
   "cell_type": "code",
   "execution_count": 27,
   "metadata": {},
   "outputs": [
    {
     "name": "stdout",
     "output_type": "stream",
     "text": [
      "Cantidad de filas después del merge: 37411\n"
     ]
    }
   ],
   "source": [
    "spotify_merge = pd.read_csv('D:/QuintoSemestre/ETL/Grammy_Analysis/data/spotify_updated.csv')\n",
    "grammy_merge = pd.read_csv('D:/QuintoSemestre/ETL/Grammy_Analysis/data/grammys_updated.csv')\n",
    "\n",
    "# Limpiar y normalizar los nombres de las canciones\n",
    "grammy_merge['artist_clean'] = grammy_merge['artist'].str.strip().str.lower()\n",
    "spotify_merge['artists_clean'] = spotify_merge['artists'].str.strip().str.lower()\n",
    "\n",
    "# Realizar un left join basado en los nombres de las canciones limpias\n",
    "merged_df = grammy_merge.merge(spotify_merge, how='left', left_on='artist_clean', right_on='artists_clean')\n",
    "\n",
    "# Comprobar la cantidad de filas después del merge\n",
    "merged_count = merged_df.shape[0]\n",
    "print(f\"Cantidad de filas después del merge: {merged_count}\")\n",
    "\n",
    "# Si no se alcanzan 4000 filas, cambiar a outer join\n",
    "if merged_count < 4000:\n",
    "    merged_df = grammy_merge.merge(spotify_merge, how='outer', left_on='artist_clean', right_on='artists_clean')\n",
    "    merged_count = merged_df.shape[0]\n",
    "    print(f\"Cantidad de filas después del outer join: {merged_count}\")\n",
    "\n",
    "# Eliminar las columnas auxiliares\n",
    "merged = merged_df.drop(columns=['artist_clean', 'artists_clean', 'id_x','id_y'])\n",
    "\n",
    "merged['id'] = range(1, len(merged) + 1)\n",
    "\n",
    "# Mover la columna 'id' al principio\n",
    "cols = ['id'] + [col for col in merged.columns if col != 'id']\n",
    "merged = merged[cols]\n",
    "\n",
    "\n"
   ]
  },
  {
   "cell_type": "code",
   "execution_count": 28,
   "metadata": {},
   "outputs": [
    {
     "name": "stdout",
     "output_type": "stream",
     "text": [
      "id                  0\n",
      "year                0\n",
      "title               0\n",
      "published_at        0\n",
      "updated_at          0\n",
      "category            0\n",
      "nominee             0\n",
      "artist              0\n",
      "workers             0\n",
      "img                 0\n",
      "winner              0\n",
      "nominee_clean       0\n",
      "track_id            0\n",
      "artists             0\n",
      "album_name          0\n",
      "track_name          0\n",
      "popularity          0\n",
      "duration_ms         0\n",
      "explicit            0\n",
      "danceability        0\n",
      "energy              0\n",
      "key                 0\n",
      "loudness            0\n",
      "mode                0\n",
      "speechiness         0\n",
      "acousticness        0\n",
      "instrumentalness    0\n",
      "liveness            0\n",
      "valence             0\n",
      "tempo               0\n",
      "time_signature      0\n",
      "track_genre         0\n",
      "dtype: int64\n",
      "La cantidad de datos depues de borrar los nulos es de: 34090\n",
      "Merge completado y archivo guardado como 'grammy_spotify_merged.csv'.\n"
     ]
    }
   ],
   "source": [
    "merged = merged.dropna()\n",
    "\n",
    "print(merged.isnull().sum())\n",
    "print(f\"La cantidad de datos depues de borrar los nulos es de: {merged.shape[0]}\")\n",
    "\n",
    "\n",
    "# Guardar el DataFrame resultante\n",
    "merged.to_csv('../data/merged.csv', index=False)\n",
    "print(\"Merge completado y archivo guardado como 'grammy_spotify_merged.csv'.\")"
   ]
  },
  {
   "cell_type": "markdown",
   "metadata": {},
   "source": [
    "# DATA ANALYSIS"
   ]
  },
  {
   "cell_type": "code",
   "execution_count": 11,
   "metadata": {},
   "outputs": [
    {
     "name": "stdout",
     "output_type": "stream",
     "text": [
      "track_genre  year  track_name                   \n",
      "acoustic     1961  Moon River                       3\n",
      "             1970  I'll Never Fall in Love Again    1\n",
      "                   Close to You                     1\n",
      "             1971  You've Got a Friend              2\n",
      "             1972  Without You                      2\n",
      "                                                   ..\n",
      "world-music  2019  God Only Knows                   2\n",
      "                   His Name Is Jesus                1\n",
      "                   Candela                          1\n",
      "                   Burn The Ships                   1\n",
      "                   Holy Roar                        1\n",
      "Name: count, Length: 2366, dtype: int64\n"
     ]
    }
   ],
   "source": [
    "# Get the list of most popular artists\n",
    "popular_artists = merged['artist'].value_counts().head(10)\n",
    "#print(popular_artists)\n",
    "\n",
    "# Get the list of most popular songs\n",
    "popular_songs = merged['track_name'].value_counts().head(10)\n",
    "#print(popular_songs)\n",
    "\n",
    "# Get the average duration of songs\n",
    "average_duration = merged['duration_ms'].mean()\n",
    "#print(average_duration)\n",
    "\n",
    "# Get the average tempo of songs\n",
    "average_tempo = merged['tempo'].mean()\n",
    "#print(average_tempo)\n",
    "\n",
    "# Get the list of most common genres\n",
    "common_genres = merged['track_genre'].value_counts().head(10)\n",
    "#print(common_genres)\n",
    "\n",
    "# Get the list of most popular artists by genre\n",
    "popular_artists_by_genre = merged.groupby('track_genre')['artist'].value_counts().head(10)\n",
    "#print(popular_artists_by_genre)\n",
    "\n",
    "# Get the list of most popular songs by genre\n",
    "popular_songs_by_genre = merged.groupby('track_genre')['track_name'].value_counts().head(10)\n",
    "#print(popular_songs_by_genre)\n",
    "\n",
    "# Get the average duration of songs by genre\n",
    "average_duration_by_genre = merged.groupby('track_genre')['duration_ms'].mean()\n",
    "#print(average_duration_by_genre)\n",
    "\n",
    "# Get the average tempo of songs by genre\n",
    "average_tempo_by_genre = merged.groupby('track_genre')['tempo'].mean()\n",
    "#print(average_tempo_by_genre)\n",
    "\n",
    "# Get the list of most common genres by year\n",
    "common_genres_by_year = merged.groupby('year')['track_genre'].value_counts().head(10)\n",
    "#print(common_genres_by_year)\n",
    "\n",
    "# Get the list of most popular artists by year\n",
    "popular_artists_by_year = merged.groupby('year')['artist'].value_counts().head(10)\n",
    "#print(popular_artists_by_year)\n",
    "\n",
    "# Get the list of most popular songs by year\n",
    "popular_songs_by_year = merged.groupby('year')['track_name'].value_counts().head(10)\n",
    "#print(popular_songs_by_year)\n",
    "\n",
    "# Get the average duration of songs by year\n",
    "average_duration_by_year = merged.groupby('year')['duration_ms'].mean()\n",
    "#print(average_duration_by_year)\n",
    "\n",
    "# Get the average tempo of songs by year\n",
    "average_tempo_by_year = merged.groupby('year')['tempo'].mean()\n",
    "#print(average_tempo_by_year)\n",
    "\n",
    "# Get the list of songs that have won awards by year\n",
    "award_winning_songs_by_year = merged[merged['winner'] == True].groupby('year')['track_name'].unique()\n",
    "#print(award_winning_songs_by_year)\n",
    "\n",
    "# Get the list of artists who have won awards by year\n",
    "award_winning_artists_by_year = merged[merged['winner'] == True].groupby('year')['artist'].unique()\n",
    "#print(award_winning_artists_by_year)\n",
    "\n",
    "# Get the list of most common genres by artist\n",
    "common_genres_by_artist = merged.groupby('artist')['track_genre'].value_counts().head(10)\n",
    "#print(common_genres_by_artist)\n",
    "\n",
    "# Get the list of most popular artists by genre and year\n",
    "popular_artists_by_genre_and_year = merged.groupby(['track_genre', 'year'])['artist'].value_counts().head(10)\n",
    "#print(popular_artists_by_genre_and_year)\n",
    "\n",
    "# Get the list of most popular songs by genre and year\n",
    "popular_songs_by_genre_and_year = merged.groupby(['track_genre', 'year'])['track_name'].value_counts()\n",
    "print(popular_songs_by_genre_and_year)"
   ]
  }
 ],
 "metadata": {
  "kernelspec": {
   "display_name": "Python 3",
   "language": "python",
   "name": "python3"
  },
  "language_info": {
   "codemirror_mode": {
    "name": "ipython",
    "version": 3
   },
   "file_extension": ".py",
   "mimetype": "text/x-python",
   "name": "python",
   "nbconvert_exporter": "python",
   "pygments_lexer": "ipython3",
   "version": "3.11.5"
  }
 },
 "nbformat": 4,
 "nbformat_minor": 2
}
